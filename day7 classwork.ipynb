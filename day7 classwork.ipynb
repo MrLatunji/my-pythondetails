{
 "cells": [
  {
   "cell_type": "code",
   "execution_count": 29,
   "id": "3cf2ac3e",
   "metadata": {},
   "outputs": [
    {
     "name": "stdout",
     "output_type": "stream",
     "text": [
      "Welcome to SIMPLYANSWER MEDICAL CANTRE\n",
      "Please provide your nameer\n",
      "Please enter your age34\n",
      "Please enter your countryhsjs\n",
      "Please enter your Gender: M/F F\n",
      "Name:er \n",
      "Gender :  F \n",
      "Age : 34\n",
      "Country: hsjs\n",
      "\n",
      "Welcome er from hsjs\n",
      "Please Enter the following Information\n",
      "Please input your height: cm1.79\n",
      "please input your weight: kg70\n",
      "Your BMI is 21.85, You are Healthy weight \n"
     ]
    }
   ],
   "source": [
    "def intro():\n",
    "    print('Welcome to SIMPLYANSWER MEDICAL CANTRE')\n",
    "    Name= input('Please provide your name')\n",
    "    Age =int(input('Please enter your age'))\n",
    "    Country= input('Please enter your country')\n",
    "    Gender= input ('Please enter your Gender: M/F')\n",
    "    print(f'''Name:{Name} \n",
    "Gender : {Gender} \n",
    "Age : {Age}\n",
    "Country: {Country}\n",
    "''')\n",
    "    print(f'Welcome {Name} from {Country}')\n",
    "def main_function():\n",
    "    intro()\n",
    "    print('Please Enter the following Information')\n",
    "    H= float(input('Please input your height: cm'))\n",
    "    W= float(input('please input your weight: kg' ))\n",
    "    BMI = (W)/(H**2)\n",
    "    if BMI <= 18.5:\n",
    "        print(f'Your BMI is {round(BMI,2)}, You are underweight')\n",
    "    elif BMI <= 24.9:\n",
    "        print (f'Your BMI is {round(BMI,2)}, You are Healthy weight ')\n",
    "    elif BMI >=25 and BMI <=30:\n",
    "        print (f'Your BMI is {round(BMI,2)}, You are overweight')\n",
    "    else:\n",
    "        print (f'Your BMI is {round(BMI,2)}, You are Obese')\n",
    "main_function()\n",
    "    \n",
    "    "
   ]
  },
  {
   "cell_type": "code",
   "execution_count": null,
   "id": "a88682d2",
   "metadata": {},
   "outputs": [],
   "source": []
  },
  {
   "cell_type": "code",
   "execution_count": null,
   "id": "920bc962",
   "metadata": {},
   "outputs": [],
   "source": []
  }
 ],
 "metadata": {
  "kernelspec": {
   "display_name": "Python 3 (ipykernel)",
   "language": "python",
   "name": "python3"
  },
  "language_info": {
   "codemirror_mode": {
    "name": "ipython",
    "version": 3
   },
   "file_extension": ".py",
   "mimetype": "text/x-python",
   "name": "python",
   "nbconvert_exporter": "python",
   "pygments_lexer": "ipython3",
   "version": "3.9.12"
  }
 },
 "nbformat": 4,
 "nbformat_minor": 5
}
