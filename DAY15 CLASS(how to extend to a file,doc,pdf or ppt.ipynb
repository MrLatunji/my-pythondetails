{
 "cells": [
  {
   "cell_type": "code",
   "execution_count": 1,
   "id": "79aa8f9d",
   "metadata": {},
   "outputs": [],
   "source": [
    "#writing a iq test program using this formula\n",
    "#IQ = mental age/physicalage *100"
   ]
  },
  {
   "cell_type": "code",
   "execution_count": 3,
   "id": "667622ea",
   "metadata": {},
   "outputs": [
    {
     "name": "stdout",
     "output_type": "stream",
     "text": [
      "Please provide age32\n",
      "What is the key difference between list and tuple:Mutable and immutable\n",
      "What type of Language is python:Programming\n",
      "What is the full meaning of PEP:Python enhancement proposal\n",
      "How many iterable object did we study in the course of the program:4\n",
      "How many Basic data types did we study in the course of program :4\n",
      "Variable is classified into how many parts:2\n",
      "What is __init__:Constructor\n",
      "What does this code [:: -1] stands for:Reverse order\n",
      "How many comparism operators do we have :6\n",
      "What is  the key difference between list and a tuple:clauses\n",
      "Hey your IQ test score is 62.5 Poor score Read More \n",
      "Hey your IQ test score is 62.5 You are a genius!!!\n"
     ]
    }
   ],
   "source": [
    "physicalage = int(input('Please provide age'))\n",
    "mentalage=0\n",
    "output = {\n",
    "    'Q1':['Mutable and immutable','Immutable and unchangeable', 'Slower and changeable'],\n",
    "    'Q2':['Scripting', 'Programming', 'High level', 'Machine'],\n",
    "    'Q3':['Python enhancement proposal','Python engaged scheme', 'Python encode program'],\n",
    "    'Q4':[5,7,3,9,4],\n",
    "    'Q5':[6,7,5,8,4],\n",
    "    'Q6':[4,2,3,7,5],\n",
    "    'Q7':['Constructor','Behaviour','Code', 'Features'],\n",
    "    'Q8':['Continous order', 'Pass order', 'break order', 'reverse order'],\n",
    "    'Q9':[5,7,6,8],\n",
    "    'Q10':['Queries', 'Function','class', 'clause']\n",
    "}\n",
    "answer = input('What is the key difference between list and tuple:')\n",
    "if answer == output['Q1'][0]:\n",
    "    mentalage +=5\n",
    "else:\n",
    "    mentalage +=0\n",
    "    \n",
    "answer = input('What type of Language is python:')\n",
    "if answer == output['Q2'][1]:\n",
    "    mentalage +=5\n",
    "else:\n",
    "    mentalage +=0\n",
    "    \n",
    "answer = input('What is the full meaning of PEP:')\n",
    "if answer == output['Q3'][0]:\n",
    "    mentalage +=5\n",
    "else:\n",
    "    mentalage +=0\n",
    "    \n",
    "answer = input('How many iterable object did we study in the course of the program:')\n",
    "if answer == output['Q4'][2]:\n",
    "    mentalage +=5\n",
    "else:\n",
    "    mentalage +=0\n",
    "    \n",
    "answer = input('How many Basic data types did we study in the course of program :')\n",
    "if answer == output['Q5'][4]:\n",
    "    mentalage +=5\n",
    "else:\n",
    "    mentalage +=0\n",
    "    \n",
    "answer = input('Variable is classified into how many parts:')\n",
    "if answer == output['Q6'][1]:\n",
    "    mentalage +=5\n",
    "else:\n",
    "    mentalage +=0\n",
    "    \n",
    "answer = input('What is __init__:')\n",
    "if answer == output['Q7'][0]:\n",
    "    mentalage +=5\n",
    "else:\n",
    "    mentalage +=0\n",
    "    \n",
    "answer = input('What does this code [:: -1] stands for:')\n",
    "if answer == output['Q8'][3]:\n",
    "    mentalage +=5\n",
    "else:\n",
    "    mentalage +=0\n",
    "    \n",
    "answer = input('How many comparism operators do we have :')\n",
    "if answer == output['Q9'][2]:\n",
    "    mentalage +=5\n",
    "else:\n",
    "    mentalage +=0\n",
    "    \n",
    "answer = input('Where, from, set are called what:')\n",
    "if answer == output['Q10'][3]:\n",
    "    mentalage +=5\n",
    "else:\n",
    "    mentalage +=0\n",
    "    \n",
    "IQ =(mentalage/physicalage )*100\n",
    "if IQ <= 70 and IQ<=80:\n",
    "    print (f'Hey your IQ test score is {IQ} Poor score Read More ')\n",
    "if IQ >= 80 and IQ<=89:\n",
    "    print (f'Hey your IQ test score is {IQ} Low average score Read More ')\n",
    "elif IQ >=90 and IQ<=109:\n",
    "    print (f'Hey your IQ test score is {IQ} average score Read More')\n",
    "elif IQ >= 110 and IQ<=119:\n",
    "    print (f'Hey your IQ test score is {IQ} High average score but still  Read More')\n",
    "elif IQ >= 120 and IQ<=140:\n",
    "    print (f'Hey your IQ test score is {IQ} You are a superior!!!')\n",
    "else:\n",
    "    print (f'Hey your IQ test score is {IQ} You are a genius!!!')\n"
   ]
  },
  {
   "cell_type": "code",
   "execution_count": 10,
   "id": "c98d3e99",
   "metadata": {},
   "outputs": [],
   "source": [
    "#w,r,a,r+\n",
    "# w=write\n",
    "# r= read\n",
    "# a = append\n",
    "# r+ = append and read\n",
    "\n",
    "file1 = open ('demo.doc', 'w')\n",
    "file1.write ('''Hey Welcome to Early code Trainig centre\n",
    "We offer the following courses\n",
    "1.Python with data science\n",
    "2. Fullstack Webdevelopment\n",
    "3.Android and IOS app Development\n",
    "''')\n",
    "file1.close()"
   ]
  },
  {
   "cell_type": "code",
   "execution_count": 11,
   "id": "4bd7dcd6",
   "metadata": {},
   "outputs": [
    {
     "name": "stdout",
     "output_type": "stream",
     "text": [
      "Hey Welcome to Early code Trainig centre\n",
      "We offer the following courses\n",
      "1.Python with data science\n",
      "2. Fullstack Webdevelopment\n",
      "3.Android and IOS app Development\n",
      "\n"
     ]
    }
   ],
   "source": [
    "file2 = open('demo.doc', 'r')\n",
    "print (file2.read())\n",
    "file2.close()"
   ]
  },
  {
   "cell_type": "code",
   "execution_count": 12,
   "id": "d635f022",
   "metadata": {},
   "outputs": [],
   "source": [
    "file3 = open('demo.doc', 'a')\n",
    "file3.write('Contact us at no 62 gado nasko road !st floor pronet mall kubwa abuja')\n",
    "file3.close()"
   ]
  },
  {
   "cell_type": "code",
   "execution_count": 13,
   "id": "c6b66742",
   "metadata": {},
   "outputs": [
    {
     "name": "stdout",
     "output_type": "stream",
     "text": [
      "Hey Welcome to Early code Trainig centre\n",
      "We offer the following courses\n",
      "1.Python with data science\n",
      "2. Fullstack Webdevelopment\n",
      "3.Android and IOS app Development\n",
      "Contact us at no 62 gado nasko road !st floor pronet mall kubwa abuja\n"
     ]
    }
   ],
   "source": [
    "file4 = open('demo.doc', 'r+')\n",
    "print(file4.read())\n",
    "file4.write ('we are always at your service')\n",
    "file4.close()"
   ]
  },
  {
   "cell_type": "code",
   "execution_count": null,
   "id": "e102bc90",
   "metadata": {},
   "outputs": [],
   "source": []
  }
 ],
 "metadata": {
  "kernelspec": {
   "display_name": "Python 3 (ipykernel)",
   "language": "python",
   "name": "python3"
  },
  "language_info": {
   "codemirror_mode": {
    "name": "ipython",
    "version": 3
   },
   "file_extension": ".py",
   "mimetype": "text/x-python",
   "name": "python",
   "nbconvert_exporter": "python",
   "pygments_lexer": "ipython3",
   "version": "3.9.12"
  }
 },
 "nbformat": 4,
 "nbformat_minor": 5
}
