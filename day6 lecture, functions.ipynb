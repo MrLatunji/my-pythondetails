{
 "cells": [
  {
   "cell_type": "code",
   "execution_count": 1,
   "id": "87f6c8b0",
   "metadata": {},
   "outputs": [],
   "source": [
    "#functions\n",
    "#we have a user defined function"
   ]
  },
  {
   "cell_type": "code",
   "execution_count": 2,
   "id": "f365c847",
   "metadata": {},
   "outputs": [],
   "source": [
    "def greet():# A function without a parameter or an argument\n",
    "    return 'Hey,welcome to python class'"
   ]
  },
  {
   "cell_type": "code",
   "execution_count": 3,
   "id": "6c9794c9",
   "metadata": {},
   "outputs": [
    {
     "data": {
      "text/plain": [
       "'Hey,welcome to python class'"
      ]
     },
     "execution_count": 3,
     "metadata": {},
     "output_type": "execute_result"
    }
   ],
   "source": [
    "greet()"
   ]
  },
  {
   "cell_type": "code",
   "execution_count": 38,
   "id": "5d504221",
   "metadata": {},
   "outputs": [
    {
     "name": "stdout",
     "output_type": "stream",
     "text": [
      "name:tunji\n"
     ]
    },
    {
     "data": {
      "text/plain": [
       "'Hey tunji welcome to python class'"
      ]
     },
     "execution_count": 38,
     "metadata": {},
     "output_type": "execute_result"
    }
   ],
   "source": [
    "def greet2(name): #a function with a sinle parameter or argument\n",
    "    return f'Hey {name} welcome to python class'\n",
    "greet2(input(\"name:\"))"
   ]
  },
  {
   "cell_type": "code",
   "execution_count": null,
   "id": "64579660",
   "metadata": {},
   "outputs": [],
   "source": [
    " def vote(Name,Gender,Age = 18):\n",
    "    print(f'''Name:{Name} Gender : {Gender} Age : {Age}''')\n",
    "    if Age>=18:\n",
    "        print('congratulations, you are eligible to vote')\n",
    "    else:\n",
    "        print('Sorry, You are not eligible to vote')\n",
    "vote(input('please provide your name: '), input('please provide your gender: '), int(input('please provide your age: ')))"
   ]
  },
  {
   "cell_type": "markdown",
   "id": "41a7c203",
   "metadata": {},
   "source": [
    "# Non Key word argument \n"
   ]
  },
  {
   "cell_type": "code",
   "execution_count": 18,
   "id": "44808a5d",
   "metadata": {},
   "outputs": [
    {
     "name": "stdout",
     "output_type": "stream",
     "text": [
      "<class 'tuple'>\n",
      "390.42857142857144\n"
     ]
    }
   ],
   "source": [
    "def average(*args):\n",
    "    print(type(args))\n",
    "    import statistics as stat\n",
    "    print(stat.mean(args))\n",
    "average(456,344,233,77,374,900,349)"
   ]
  },
  {
   "cell_type": "code",
   "execution_count": 19,
   "id": "9d1fa567",
   "metadata": {},
   "outputs": [
    {
     "name": "stdout",
     "output_type": "stream",
     "text": [
      "<class 'tuple'>\n",
      "76.72333333333333\n"
     ]
    }
   ],
   "source": [
    "#unpacking\n",
    "values=[45,63,78,98.34,78,98]\n",
    "average(*values)"
   ]
  },
  {
   "cell_type": "code",
   "execution_count": 28,
   "id": "001eb29b",
   "metadata": {},
   "outputs": [
    {
     "name": "stdout",
     "output_type": "stream",
     "text": [
      "<class 'dict'>\n",
      "Name : ['ojukwu paul', 'sayo ola']\n",
      "Age : 55\n",
      "Gender : male\n"
     ]
    }
   ],
   "source": [
    "#function for Key word argument\n",
    "def details(**records):\n",
    "    print(type(records))\n",
    "    for key, values in records.items():\n",
    "        print(f'{key} : {values}')\n",
    "details(Name=['ojukwu paul', 'sayo ola'],Age = 55, Gender ='male')\n",
    "        "
   ]
  },
  {
   "cell_type": "code",
   "execution_count": null,
   "id": "9bce6971",
   "metadata": {},
   "outputs": [],
   "source": []
  },
  {
   "cell_type": "code",
   "execution_count": 30,
   "id": "41f5a717",
   "metadata": {},
   "outputs": [],
   "source": [
    "# a practical class operation\n",
    "#write a dice game that will roll 10 times between 2 players and for each time it roll its going to pick winner and afterall checks the overall winner\n"
   ]
  },
  {
   "cell_type": "code",
   "execution_count": 31,
   "id": "94b8242c",
   "metadata": {},
   "outputs": [
    {
     "name": "stdout",
     "output_type": "stream",
     "text": [
      "Player one score8\n",
      "Player two score11\n",
      "Player two wins\n",
      "Player one is the overall winner with total point of 5\n",
      "Player one score12\n",
      "Player two score7\n",
      "Player one wins\n",
      "It\\s A DRAW\n",
      "Player one score6\n",
      "Player two score3\n",
      "Player one wins\n",
      "Player one is the overall winner with total point of 10\n",
      "Player one score8\n",
      "Player two score4\n",
      "Player one wins\n",
      "Player one is the overall winner with total point of 15\n",
      "Player one score6\n",
      "Player two score7\n",
      "Player two wins\n",
      "Player one is the overall winner with total point of 15\n",
      "Player one score8\n",
      "Player two score8\n",
      "It\\s A DRAW\n",
      "Player one is the overall winner with total point of 16\n",
      "Player one score2\n",
      "Player two score8\n",
      "Player two wins\n",
      "It\\s A DRAW\n",
      "Player one score7\n",
      "Player two score3\n",
      "Player one wins\n",
      "Player one is the overall winner with total point of 21\n",
      "Player one score7\n",
      "Player two score8\n",
      "Player two wins\n",
      "It\\s A DRAW\n",
      "Player one score2\n",
      "Player two score7\n",
      "Player two wins\n",
      "Player one is the overall winner with total point of 26\n"
     ]
    }
   ],
   "source": [
    "def rolldice():\n",
    "    import random as rn\n",
    "    player1score = 0\n",
    "    player2score = 0\n",
    "    for x in range(1,11):\n",
    "        dice1 = sum([rn.randint(1,6),rn.randint(1,6)])\n",
    "        dice2 = sum([rn.randint(1,6),rn.randint(1,6)])\n",
    "        \n",
    "        if dice1>dice2:\n",
    "            print(f'Player one score{dice1}')\n",
    "            print(f'Player two score{dice2}')\n",
    "            print('Player one wins')\n",
    "            player1score = player1score + 5\n",
    "        elif dice2>dice1:\n",
    "            print(f'Player one score{dice1}')\n",
    "            print(f'Player two score{dice2}')\n",
    "            print('Player two wins')\n",
    "            player2score = player2score + 5\n",
    "        else:\n",
    "            print(f'Player one score{dice1}')\n",
    "            print(f'Player two score{dice2}')\n",
    "            print('It\\s A DRAW')\n",
    "            player1score = player1score + 1\n",
    "            player2score = player2score + 1\n",
    "            \n",
    "        if player1score > player2score:\n",
    "            print(f'Player one is the overall winner with total point of {player1score}')\n",
    "        elif player2score > player1score:\n",
    "             print(f'Player one is the overall winner with total point of {player2score}')\n",
    "        else:\n",
    "            print('It\\s A DRAW')\n",
    "            \n",
    "rolldice()\n",
    "            \n",
    "        "
   ]
  },
  {
   "cell_type": "code",
   "execution_count": null,
   "id": "e1183fcc",
   "metadata": {},
   "outputs": [],
   "source": []
  }
 ],
 "metadata": {
  "kernelspec": {
   "display_name": "Python 3 (ipykernel)",
   "language": "python",
   "name": "python3"
  },
  "language_info": {
   "codemirror_mode": {
    "name": "ipython",
    "version": 3
   },
   "file_extension": ".py",
   "mimetype": "text/x-python",
   "name": "python",
   "nbconvert_exporter": "python",
   "pygments_lexer": "ipython3",
   "version": "3.9.12"
  }
 },
 "nbformat": 4,
 "nbformat_minor": 5
}
