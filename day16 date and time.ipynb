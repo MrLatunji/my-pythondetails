{
 "cells": [
  {
   "cell_type": "code",
   "execution_count": 1,
   "metadata": {},
   "outputs": [],
   "source": [
    "import datetime"
   ]
  },
  {
   "cell_type": "code",
   "execution_count": 2,
   "metadata": {},
   "outputs": [
    {
     "name": "stdout",
     "output_type": "stream",
     "text": [
      "['MAXYEAR', 'MINYEAR', '__all__', '__builtins__', '__cached__', '__doc__', '__file__', '__loader__', '__name__', '__package__', '__spec__', 'date', 'datetime', 'datetime_CAPI', 'sys', 'time', 'timedelta', 'timezone', 'tzinfo']\n"
     ]
    }
   ],
   "source": [
    "print(dir(datetime))"
   ]
  },
  {
   "cell_type": "code",
   "execution_count": 3,
   "metadata": {},
   "outputs": [],
   "source": [
    "date1 = datetime.date(2022,2,24)"
   ]
  },
  {
   "cell_type": "code",
   "execution_count": 16,
   "metadata": {},
   "outputs": [
    {
     "name": "stdout",
     "output_type": "stream",
     "text": [
      "2022\n",
      "2\n",
      "24\n",
      "3\n",
      "4\n"
     ]
    }
   ],
   "source": [
    "print(date1.year)\n",
    "print(date1.month)\n",
    "print(date1.day)\n",
    "print(date1.weekday())#this start from index 0\n",
    "print(date1.isoweekday())#this starts from index 1"
   ]
  },
  {
   "cell_type": "code",
   "execution_count": 5,
   "metadata": {},
   "outputs": [
    {
     "name": "stdout",
     "output_type": "stream",
     "text": [
      "2022-06-21\n"
     ]
    }
   ],
   "source": [
    "currentdate = datetime.date.today()\n",
    "print(currentdate)"
   ]
  },
  {
   "cell_type": "code",
   "execution_count": 14,
   "metadata": {},
   "outputs": [
    {
     "data": {
      "text/plain": [
       "'21 June, 2022'"
      ]
     },
     "execution_count": 14,
     "metadata": {},
     "output_type": "execute_result"
    }
   ],
   "source": [
    "#strftime: This is use for the modification of date and time\n",
    "currentdate.strftime('%d %B, %Y')"
   ]
  },
  {
   "cell_type": "code",
   "execution_count": 15,
   "metadata": {},
   "outputs": [],
   "source": [
    "time1 = datetime.time(10,54,59,150000)"
   ]
  },
  {
   "cell_type": "code",
   "execution_count": 17,
   "metadata": {},
   "outputs": [
    {
     "name": "stdout",
     "output_type": "stream",
     "text": [
      "10\n",
      "54\n",
      "59\n",
      "150000\n"
     ]
    }
   ],
   "source": [
    "print(time1.hour)\n",
    "print(time1.minute)\n",
    "print(time1.second)\n",
    "print(time1.microsecond)"
   ]
  },
  {
   "cell_type": "code",
   "execution_count": 18,
   "metadata": {},
   "outputs": [],
   "source": [
    "currenttime = datetime.datetime.now().time()"
   ]
  },
  {
   "cell_type": "code",
   "execution_count": 19,
   "metadata": {},
   "outputs": [
    {
     "name": "stdout",
     "output_type": "stream",
     "text": [
      "16:32:26.043560\n"
     ]
    }
   ],
   "source": [
    "print(currenttime)"
   ]
  },
  {
   "cell_type": "code",
   "execution_count": 25,
   "metadata": {},
   "outputs": [
    {
     "data": {
      "text/plain": [
       "'PM'"
      ]
     },
     "execution_count": 25,
     "metadata": {},
     "output_type": "execute_result"
    }
   ],
   "source": [
    "currenttime.strftime('%p')"
   ]
  },
  {
   "cell_type": "code",
   "execution_count": 26,
   "metadata": {},
   "outputs": [
    {
     "name": "stdout",
     "output_type": "stream",
     "text": [
      "2022-06-21 16:40:43.858732\n"
     ]
    }
   ],
   "source": [
    "currentdatetime = datetime.datetime.now()\n",
    "print(currentdatetime)"
   ]
  },
  {
   "cell_type": "code",
   "execution_count": 32,
   "metadata": {},
   "outputs": [
    {
     "name": "stdout",
     "output_type": "stream",
     "text": [
      "Hey Ade this is a kind reminder of our party holding on the 25 July, 2022  12PM prompt\n",
      "Hey Njoku this is a kind reminder of our party holding on the 25 July, 2022  12PM prompt\n",
      "Hey Akpan this is a kind reminder of our party holding on the 25 July, 2022  12PM prompt\n",
      "Hey Bimbo this is a kind reminder of our party holding on the 25 July, 2022  12PM prompt\n",
      "Hey James this is a kind reminder of our party holding on the 25 July, 2022  12PM prompt\n"
     ]
    }
   ],
   "source": [
    "#Have a list of 5 friends and forward a message stating \"Hey {name of friends in the list} this is a kind reminder of our party holding on the 25 july, 2022 12pm prompt\"\n",
    "friends = ['Ade','Njoku','Akpan','Bimbo','James']\n",
    "date2 = datetime.datetime(2022,7,25,12,00,00)\n",
    "for name in friends:\n",
    "    print('Hey', name,'this is a kind reminder of our party holding on the', date2.strftime('%d %B, %Y  %I%p prompt'))"
   ]
  },
  {
   "cell_type": "code",
   "execution_count": 35,
   "metadata": {},
   "outputs": [
    {
     "name": "stdout",
     "output_type": "stream",
     "text": [
      "1996-02-22\n"
     ]
    }
   ],
   "source": [
    "YOB = input('Please Enter you date of birth (yy/mm/dd):')\n",
    "cyob = datetime.datetime.strptime(YOB,'%Y/%m/%d').date()\n",
    "print(cyob)"
   ]
  },
  {
   "cell_type": "code",
   "execution_count": 36,
   "metadata": {},
   "outputs": [],
   "source": [
    "#time delta: this is the difference between two dates and two time"
   ]
  },
  {
   "cell_type": "code",
   "execution_count": 41,
   "metadata": {},
   "outputs": [
    {
     "data": {
      "text/plain": [
       "datetime.datetime(2026, 4, 21, 16, 40, 43, 858732)"
      ]
     },
     "execution_count": 41,
     "metadata": {},
     "output_type": "execute_result"
    }
   ],
   "source": [
    "tdelta = datetime.timedelta(weeks = 200)\n",
    "currentdatetime + tdelta"
   ]
  },
  {
   "cell_type": "code",
   "execution_count": 38,
   "metadata": {},
   "outputs": [
    {
     "data": {
      "text/plain": [
       "datetime.date(2021, 12, 3)"
      ]
     },
     "execution_count": 38,
     "metadata": {},
     "output_type": "execute_result"
    }
   ],
   "source": [
    "currentdate - tdelta"
   ]
  },
  {
   "cell_type": "code",
   "execution_count": 39,
   "metadata": {},
   "outputs": [
    {
     "data": {
      "text/plain": [
       "datetime.timedelta(days=117)"
      ]
     },
     "execution_count": 39,
     "metadata": {},
     "output_type": "execute_result"
    }
   ],
   "source": [
    "currentdate - date1"
   ]
  },
  {
   "cell_type": "code",
   "execution_count": null,
   "metadata": {},
   "outputs": [],
   "source": [
    "#Write a program to calculate how many  seconds it takes to answer 5 questions\n",
    "score = 0\n",
    "time = 0\n",
    "output = {\n",
    "    'Q1':['Gk','AM','SW','LB'],\n",
    "    'Q2':[16,15,45,20,18],\n",
    "    'Q3':[6,3,4,5,6],\n",
    "    'Q4':[9,8,10,15],\n",
    "    'Q5':['Programming','High','Scripting','Machine']\n",
    "}\n",
    "start_time = datetime.datetime.now()\n",
    "answer = input('What position does Marcelo plays for Real Mardrid:')\n",
    "if answer == output['Q1'][3]:\n",
    "    score = score + 5\n",
    "else:\n",
    "    score = score + 0\n",
    "    \n",
    "answer =int( input('How many clubs do we have in the Netherland league:'))\n",
    "if answer == output['Q2'][4]:\n",
    "    score = score + 5\n",
    "else:\n",
    "    score = score + 0\n",
    "    \n",
    "answer =int( input('How many basic datatypes do we considered in the course of our program:'))\n",
    "if answer == output['Q3'][2]:\n",
    "    score = score + 5\n",
    "else:\n",
    "    score = score + 0\n",
    "    \n",
    "answer =int( input('How many legs do a spider has:'))\n",
    "if answer == output['Q4'][1]:\n",
    "    score = score + 5\n",
    "else:\n",
    "    score = score + 0\n",
    "    \n",
    "answer = input('What type of language is python:')\n",
    "if answer == output['Q5'][0]:\n",
    "    score = score + 5\n",
    "else:\n",
    "    score = score + 0\n",
    "\n",
    "stop_time = datetime.datetime.now()\n",
    "diff = stop_time - start_time\n",
    "time = diff.seconds\n",
    "print(f'Your score is {score} in {time} seconds')\n",
    "    \n",
    "    "
   ]
  }
 ],
 "metadata": {
  "kernelspec": {
   "display_name": "Python 3 (ipykernel)",
   "language": "python",
   "name": "python3"
  },
  "language_info": {
   "codemirror_mode": {
    "name": "ipython",
    "version": 3
   },
   "file_extension": ".py",
   "mimetype": "text/x-python",
   "name": "python",
   "nbconvert_exporter": "python",
   "pygments_lexer": "ipython3",
   "version": "3.9.12"
  },
  "vscode": {
   "interpreter": {
    "hash": "7c5b4b5f72701d0da4703e0631ab80e1a1879b4a1224ff4bb856e690b4256287"
   }
  }
 },
 "nbformat": 4,
 "nbformat_minor": 2
}
