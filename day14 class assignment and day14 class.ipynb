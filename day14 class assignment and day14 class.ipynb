{
 "cells": [
  {
   "cell_type": "code",
   "execution_count": null,
   "id": "06f3feb2",
   "metadata": {},
   "outputs": [],
   "source": []
  },
  {
   "cell_type": "code",
   "execution_count": 3,
   "id": "291565b0",
   "metadata": {},
   "outputs": [
    {
     "name": "stdout",
     "output_type": "stream",
     "text": [
      "enter Y as yes ans N as no to perform operation:Y\n",
      "Phone Name:samsung\n",
      "ModelNumber:73785487\n",
      "Price:8745785\n",
      "enter Y as yes ans N as no to perform operation:Y\n",
      "Phone Name:tecno\n",
      "ModelNumber:98438954\n",
      "Price:894398548968\n",
      "enter Y as yes ans N as no to perform operation:N\n",
      "======The list of phone that the store have=====\n",
      "1 . samsung:73785487::8745785\n",
      "2 . tecno:98438954::894398548968\n"
     ]
    }
   ],
   "source": [
    "class phonesstore:\n",
    "    def __init__ (self,PhoneName,ModelNumber,Price):\n",
    "        self.PhoneName = PhoneName\n",
    "        self.ModelNumber = ModelNumber\n",
    "        self.Price = Price\n",
    "    def getprice(self):\n",
    "        return self.Price\n",
    "    def getmodel(self):\n",
    "        return self.ModelNumber\n",
    "    def __str__(self):\n",
    "        return self.PhoneName + ':'+ str(self.getmodel())+ '::' + str(self.getprice())\n",
    "def prices (rec,PhoneName,ModelNumber,Price):\n",
    "    rec.append(phonesstore(PhoneName,ModelNumber,Price))\n",
    "    return rec\n",
    "record =[]\n",
    "x= input('enter Y as yes ans N as no to perform operation:')\n",
    "while x == 'Y':\n",
    "    PhoneName = input ('Phone Name:')\n",
    "    ModelNumber = input('ModelNumber:')\n",
    "    Price = input('Price:')\n",
    "    record = prices(record,PhoneName,ModelNumber,Price)\n",
    "    x= input('enter Y as yes ans N as no to perform operation:')\n",
    "n = 1\n",
    "print('======The list of phone that the store have=====')\n",
    "for item in record:\n",
    "    print(n,'.', item)\n",
    "    n = n+1"
   ]
  },
  {
   "cell_type": "code",
   "execution_count": null,
   "id": "9e4c38bf",
   "metadata": {},
   "outputs": [],
   "source": [
    "#try (used to test for error)\n",
    "#except\n",
    "#else\n",
    "#finally\n"
   ]
  },
  {
   "cell_type": "code",
   "execution_count": 6,
   "id": "f96ee86b",
   "metadata": {},
   "outputs": [
    {
     "name": "stdout",
     "output_type": "stream",
     "text": [
      "Enter first Number: 89\n",
      "Enter second Number: 9\n",
      "+:Addition\n",
      "    -:Subtraction\n",
      "    *:Multiplication\n",
      "    /:Division\n",
      "    /\n",
      "89 / 9 = 9.88888888888889\n",
      "89 ** 9 = 350356403707485209\n",
      "End of program\n"
     ]
    }
   ],
   "source": [
    "try:\n",
    "    num1 = int(input('Enter first Number: '))\n",
    "    num2 = int(input('Enter second Number: '))\n",
    "    operation = input('''+:Addition\n",
    "    -:Subtraction\n",
    "    *:Multiplication\n",
    "    /:Division\n",
    "    ''')\n",
    "    if operation == '+':\n",
    "        print(f'{num1} + {num2} = {num1 + num2}')\n",
    "    elif operation == '-':\n",
    "        print(f'{num1} - {num2} = {num1 - num2}')\n",
    "    elif operation == '*':\n",
    "        print(f'{num1} * {num2} = {num1 * num2}')\n",
    "    elif operation == '/':\n",
    "        print(f'{num1} / {num2} = {num1 / num2}')\n",
    "except ValueError:\n",
    "    print('You have entered a wrong value only integer value should be entered')\n",
    "except ZeroDivisionError:\n",
    "    print ('You cannot divide a number by zero')\n",
    "except:\n",
    "    print ('You have encountered one or more errors')\n",
    "else:\n",
    "    print(f'{num1} ** {num2} = {num1**num2}')\n",
    "finally:\n",
    "    print('End of program')\n",
    "\n",
    "    \n",
    "        "
   ]
  },
  {
   "cell_type": "code",
   "execution_count": null,
   "id": "6bfe623c",
   "metadata": {},
   "outputs": [],
   "source": []
  }
 ],
 "metadata": {
  "kernelspec": {
   "display_name": "Python 3 (ipykernel)",
   "language": "python",
   "name": "python3"
  },
  "language_info": {
   "codemirror_mode": {
    "name": "ipython",
    "version": 3
   },
   "file_extension": ".py",
   "mimetype": "text/x-python",
   "name": "python",
   "nbconvert_exporter": "python",
   "pygments_lexer": "ipython3",
   "version": "3.9.12"
  }
 },
 "nbformat": 4,
 "nbformat_minor": 5
}
