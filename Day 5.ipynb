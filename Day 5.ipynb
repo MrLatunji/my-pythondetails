{
 "cells": [
  {
   "cell_type": "markdown",
   "id": "d5b0aeca",
   "metadata": {},
   "source": [
    "# LOOPS\n"
   ]
  },
  {
   "cell_type": "markdown",
   "id": "7e3aadf7",
   "metadata": {},
   "source": [
    "# # for loop \n",
    "#its used when u have the idea of how many time the code will run ;\n",
    "#its used for iterable object too\n"
   ]
  },
  {
   "cell_type": "code",
   "execution_count": 3,
   "id": "58705356",
   "metadata": {},
   "outputs": [
    {
     "name": "stdout",
     "output_type": "stream",
     "text": [
      "p\n",
      "h\n",
      "y\n",
      "t\n",
      "o\n",
      "n\n"
     ]
    }
   ],
   "source": [
    "word = 'phyton'\n",
    "for char in  word:\n",
    "    \n",
    "    print(char)\n",
    "    "
   ]
  },
  {
   "cell_type": "code",
   "execution_count": 4,
   "id": "3e0f9261",
   "metadata": {},
   "outputs": [
    {
     "name": "stdout",
     "output_type": "stream",
     "text": [
      "ppp\n",
      "hhh\n",
      "yyy\n",
      "ttt\n",
      "ooo\n",
      "nnn\n"
     ]
    }
   ],
   "source": [
    "word = 'phyton'\n",
    "for char in  word:\n",
    "    print(char*3)"
   ]
  },
  {
   "cell_type": "code",
   "execution_count": 7,
   "id": "9f83e441",
   "metadata": {},
   "outputs": [
    {
     "name": "stdout",
     "output_type": "stream",
     "text": [
      "Hey ayo this is for your kind reminderof the meeting scheduled to hold by 12pm on friday 27th may\n",
      "Hey sola this is for your kind reminderof the meeting scheduled to hold by 12pm on friday 27th may\n",
      "Hey mane this is for your kind reminderof the meeting scheduled to hold by 12pm on friday 27th may\n",
      "Hey segun this is for your kind reminderof the meeting scheduled to hold by 12pm on friday 27th may\n",
      "Hey tope this is for your kind reminderof the meeting scheduled to hold by 12pm on friday 27th may\n"
     ]
    }
   ],
   "source": [
    "names=['ayo','sola','mane','segun','tope']\n",
    "for items in names:\n",
    "    print(f'Hey {items} this is for your kind reminderof the meeting scheduled to hold by 12pm on friday 27th may' )"
   ]
  },
  {
   "cell_type": "code",
   "execution_count": 11,
   "id": "b2037313",
   "metadata": {},
   "outputs": [
    {
     "name": "stdout",
     "output_type": "stream",
     "text": [
      "John : 89\n",
      "Samuel : 98\n",
      "sola : 79\n",
      "bayo : 85\n",
      "mary : 70\n",
      "Hope : 89\n"
     ]
    }
   ],
   "source": [
    "Studentscore={\n",
    "    \"John\":89,\n",
    "    'Samuel':98,\n",
    "    'sola':79,\n",
    "    'bayo':85,\n",
    "    'mary':70,\n",
    "    'Hope':89,    \n",
    "}\n",
    "for key,value in Studentscore.items():\n",
    "    print(key,':',value)"
   ]
  },
  {
   "cell_type": "code",
   "execution_count": 17,
   "id": "0cee8324",
   "metadata": {},
   "outputs": [
    {
     "name": "stdout",
     "output_type": "stream",
     "text": [
      "Please provide a name to check your resultSamuel\n",
      "Your score is 98\n"
     ]
    }
   ],
   "source": [
    "Studentscore={\n",
    "    \"John\":89,\n",
    "    'Samuel':98,\n",
    "    'sola':79,\n",
    "    'bayo':85,\n",
    "    'mary':70,\n",
    "    'Hope':89,    \n",
    "}\n",
    "name= input('Please provide a name to check your result')\n",
    "for key in Studentscore:\n",
    "    if key== name:\n",
    "        print(f'Your score is {Studentscore[key]}')\n",
    "        break #break statement terminate a program when condition is satisftied\n",
    "else:\n",
    "    print('Sorry Name not found')\n",
    "        \n"
   ]
  },
  {
   "cell_type": "code",
   "execution_count": 18,
   "id": "ade9106c",
   "metadata": {},
   "outputs": [
    {
     "name": "stdout",
     "output_type": "stream",
     "text": [
      "Please provide a name to check your resultJohn\n",
      "Your score is 89\n",
      "Sorry Name not found\n"
     ]
    }
   ],
   "source": [
    "Studentscore={\n",
    "    \"John\":89,\n",
    "    'Samuel':98,\n",
    "    'sola':79,\n",
    "    'bayo':85,\n",
    "    'mary':70,\n",
    "    'Hope':89,    \n",
    "}\n",
    "name= input('Please provide a name to check your result')\n",
    "for key in Studentscore:\n",
    "    if key== name:\n",
    "        print(f'Your score is {Studentscore[key]}')\n",
    "        continue\n",
    "else:\n",
    "    print('Sorry Name not found')\n",
    "        \n"
   ]
  },
  {
   "cell_type": "code",
   "execution_count": 19,
   "id": "7e32778b",
   "metadata": {},
   "outputs": [
    {
     "name": "stdout",
     "output_type": "stream",
     "text": [
      "1\n",
      "4\n",
      "9\n",
      "16\n",
      "25\n",
      "36\n",
      "49\n",
      "64\n",
      "81\n",
      "100\n",
      "121\n",
      "144\n"
     ]
    }
   ],
   "source": [
    "#RANGE\n",
    "for num in  range(1,13):\n",
    "    print (num**2)"
   ]
  },
  {
   "cell_type": "code",
   "execution_count": 21,
   "id": "3eed0512",
   "metadata": {},
   "outputs": [
    {
     "name": "stdout",
     "output_type": "stream",
     "text": [
      "provide a number45\n",
      "45 x 1 = 45\n",
      "45 x 2 = 90\n",
      "45 x 3 = 135\n",
      "45 x 4 = 180\n",
      "45 x 5 = 225\n",
      "45 x 6 = 270\n",
      "45 x 7 = 315\n",
      "45 x 8 = 360\n",
      "45 x 9 = 405\n",
      "45 x 10 = 450\n",
      "45 x 11 = 495\n",
      "45 x 12 = 540\n"
     ]
    }
   ],
   "source": [
    "num= int(input('provide a number'))\n",
    "for number in range(1,13):\n",
    "    print(f'{num} x {number} = {num*number}')"
   ]
  },
  {
   "cell_type": "markdown",
   "id": "72850000",
   "metadata": {},
   "source": [
    "# WHILE LOOP\n",
    "\n",
    "# we use while loop when we dont know how many time the code should run\n",
    "#while loop will continue running until the code is met and be very careful when used cos it may not stop\n"
   ]
  },
  {
   "cell_type": "code",
   "execution_count": 36,
   "id": "18ab65dc",
   "metadata": {},
   "outputs": [
    {
     "ename": "KeyboardInterrupt",
     "evalue": "Interrupted by user",
     "output_type": "error",
     "traceback": [
      "\u001b[1;31m---------------------------------------------------------------------------\u001b[0m",
      "\u001b[1;31mKeyboardInterrupt\u001b[0m                         Traceback (most recent call last)",
      "Input \u001b[1;32mIn [36]\u001b[0m, in \u001b[0;36m<cell line: 2>\u001b[1;34m()\u001b[0m\n\u001b[0;32m      1\u001b[0m \u001b[38;5;28;01mimport\u001b[39;00m \u001b[38;5;21;01mmath\u001b[39;00m\n\u001b[1;32m----> 2\u001b[0m num \u001b[38;5;241m=\u001b[39m \u001b[38;5;28mint\u001b[39m(\u001b[38;5;28;43minput\u001b[39;49m\u001b[43m(\u001b[49m\u001b[38;5;124;43m'\u001b[39;49m\u001b[38;5;124;43mPlease provide a number\u001b[39;49m\u001b[38;5;124;43m'\u001b[39;49m\u001b[43m)\u001b[49m)\n\u001b[0;32m      3\u001b[0m counter \u001b[38;5;241m=\u001b[39m \u001b[38;5;241m1\u001b[39m\n\u001b[0;32m      4\u001b[0m \u001b[38;5;28;01mwhile\u001b[39;00m num \u001b[38;5;241m!=\u001b[39m \u001b[38;5;241m0\u001b[39m:\n",
      "File \u001b[1;32m~\\anaconda3\\lib\\site-packages\\ipykernel\\kernelbase.py:1075\u001b[0m, in \u001b[0;36mKernel.raw_input\u001b[1;34m(self, prompt)\u001b[0m\n\u001b[0;32m   1071\u001b[0m \u001b[38;5;28;01mif\u001b[39;00m \u001b[38;5;129;01mnot\u001b[39;00m \u001b[38;5;28mself\u001b[39m\u001b[38;5;241m.\u001b[39m_allow_stdin:\n\u001b[0;32m   1072\u001b[0m     \u001b[38;5;28;01mraise\u001b[39;00m StdinNotImplementedError(\n\u001b[0;32m   1073\u001b[0m         \u001b[38;5;124m\"\u001b[39m\u001b[38;5;124mraw_input was called, but this frontend does not support input requests.\u001b[39m\u001b[38;5;124m\"\u001b[39m\n\u001b[0;32m   1074\u001b[0m     )\n\u001b[1;32m-> 1075\u001b[0m \u001b[38;5;28;01mreturn\u001b[39;00m \u001b[38;5;28;43mself\u001b[39;49m\u001b[38;5;241;43m.\u001b[39;49m\u001b[43m_input_request\u001b[49m\u001b[43m(\u001b[49m\n\u001b[0;32m   1076\u001b[0m \u001b[43m    \u001b[49m\u001b[38;5;28;43mstr\u001b[39;49m\u001b[43m(\u001b[49m\u001b[43mprompt\u001b[49m\u001b[43m)\u001b[49m\u001b[43m,\u001b[49m\n\u001b[0;32m   1077\u001b[0m \u001b[43m    \u001b[49m\u001b[38;5;28;43mself\u001b[39;49m\u001b[38;5;241;43m.\u001b[39;49m\u001b[43m_parent_ident\u001b[49m\u001b[43m[\u001b[49m\u001b[38;5;124;43m\"\u001b[39;49m\u001b[38;5;124;43mshell\u001b[39;49m\u001b[38;5;124;43m\"\u001b[39;49m\u001b[43m]\u001b[49m\u001b[43m,\u001b[49m\n\u001b[0;32m   1078\u001b[0m \u001b[43m    \u001b[49m\u001b[38;5;28;43mself\u001b[39;49m\u001b[38;5;241;43m.\u001b[39;49m\u001b[43mget_parent\u001b[49m\u001b[43m(\u001b[49m\u001b[38;5;124;43m\"\u001b[39;49m\u001b[38;5;124;43mshell\u001b[39;49m\u001b[38;5;124;43m\"\u001b[39;49m\u001b[43m)\u001b[49m\u001b[43m,\u001b[49m\n\u001b[0;32m   1079\u001b[0m \u001b[43m    \u001b[49m\u001b[43mpassword\u001b[49m\u001b[38;5;241;43m=\u001b[39;49m\u001b[38;5;28;43;01mFalse\u001b[39;49;00m\u001b[43m,\u001b[49m\n\u001b[0;32m   1080\u001b[0m \u001b[43m\u001b[49m\u001b[43m)\u001b[49m\n",
      "File \u001b[1;32m~\\anaconda3\\lib\\site-packages\\ipykernel\\kernelbase.py:1120\u001b[0m, in \u001b[0;36mKernel._input_request\u001b[1;34m(self, prompt, ident, parent, password)\u001b[0m\n\u001b[0;32m   1117\u001b[0m             \u001b[38;5;28;01mbreak\u001b[39;00m\n\u001b[0;32m   1118\u001b[0m \u001b[38;5;28;01mexcept\u001b[39;00m \u001b[38;5;167;01mKeyboardInterrupt\u001b[39;00m:\n\u001b[0;32m   1119\u001b[0m     \u001b[38;5;66;03m# re-raise KeyboardInterrupt, to truncate traceback\u001b[39;00m\n\u001b[1;32m-> 1120\u001b[0m     \u001b[38;5;28;01mraise\u001b[39;00m \u001b[38;5;167;01mKeyboardInterrupt\u001b[39;00m(\u001b[38;5;124m\"\u001b[39m\u001b[38;5;124mInterrupted by user\u001b[39m\u001b[38;5;124m\"\u001b[39m) \u001b[38;5;28;01mfrom\u001b[39;00m \u001b[38;5;28mNone\u001b[39m\n\u001b[0;32m   1121\u001b[0m \u001b[38;5;28;01mexcept\u001b[39;00m \u001b[38;5;167;01mException\u001b[39;00m:\n\u001b[0;32m   1122\u001b[0m     \u001b[38;5;28mself\u001b[39m\u001b[38;5;241m.\u001b[39mlog\u001b[38;5;241m.\u001b[39mwarning(\u001b[38;5;124m\"\u001b[39m\u001b[38;5;124mInvalid Message:\u001b[39m\u001b[38;5;124m\"\u001b[39m, exc_info\u001b[38;5;241m=\u001b[39m\u001b[38;5;28;01mTrue\u001b[39;00m)\n",
      "\u001b[1;31mKeyboardInterrupt\u001b[0m: Interrupted by user"
     ]
    }
   ],
   "source": [
    "import math\n",
    "num = int(input('Please provide a number'))\n",
    "counter = 1\n",
    "while num != 0:\n",
    "    print(f'The square root of {num} is {math.sqrt(num)}')\n",
    "    counter = counter + 1\n",
    "    num = int(input('Please provide a number:'))\n",
    "          "
   ]
  },
  {
   "cell_type": "code",
   "execution_count": 39,
   "id": "42186431",
   "metadata": {},
   "outputs": [
    {
     "name": "stdout",
     "output_type": "stream",
     "text": [
      "Please provide guess between 1 and 20:4\n",
      "Guess is 4\n",
      "Hey Guess is higher than the generated number\n",
      "Please provide guess between 1 and 20:2\n",
      "Guess is 2\n",
      "Hey Guess is lower than the generated number\n",
      "Please provide guess between 1 and 20:5\n",
      "Guess is 5\n",
      "Hey Guess is higher than the generated number\n",
      "Please provide guess between 1 and 20:1\n",
      "Guess is 1\n",
      "Hey Guess is lower than the generated number\n",
      "Please provide guess between 1 and 20:0\n",
      "Guess is 0\n",
      "Hey Guess is lower than the generated number\n",
      "Please provide guess between 1 and 20:2\n",
      "Guess is 2\n",
      "Hey Guess is lower than the generated number\n",
      "Please provide guess between 1 and 20:3\n",
      "Congratulations Guess is Correct\n"
     ]
    }
   ],
   "source": [
    "import random\n",
    "num=random.randint(1,20)\n",
    "guess = int(input('Please provide guess between 1 and 20:'))\n",
    "counter = 1\n",
    "while num != guess:\n",
    "    print(f'Guess is {guess}')\n",
    "    counter += 1\n",
    "    \n",
    "    if guess > num:\n",
    "        print ('Hey Guess is higher than the generated number')\n",
    "    elif guess < num:\n",
    "        print ('Hey Guess is lower than the generated number')\n",
    "    guess = int(input('Please provide guess between 1 and 20:'))\n",
    "print('Congratulations Guess is Correct')\n",
    "        "
   ]
  },
  {
   "cell_type": "code",
   "execution_count": null,
   "id": "9b6ce117",
   "metadata": {},
   "outputs": [],
   "source": []
  },
  {
   "cell_type": "code",
   "execution_count": null,
   "id": "0912eb85",
   "metadata": {},
   "outputs": [],
   "source": []
  }
 ],
 "metadata": {
  "kernelspec": {
   "display_name": "Python 3 (ipykernel)",
   "language": "python",
   "name": "python3"
  },
  "language_info": {
   "codemirror_mode": {
    "name": "ipython",
    "version": 3
   },
   "file_extension": ".py",
   "mimetype": "text/x-python",
   "name": "python",
   "nbconvert_exporter": "python",
   "pygments_lexer": "ipython3",
   "version": "3.9.12"
  }
 },
 "nbformat": 4,
 "nbformat_minor": 5
}
