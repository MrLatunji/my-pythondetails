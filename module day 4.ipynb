{
 "cells": [
  {
   "cell_type": "code",
   "execution_count": 3,
   "id": "a94fa32b",
   "metadata": {},
   "outputs": [
    {
     "name": "stdout",
     "output_type": "stream",
     "text": [
      "['__doc__', '__loader__', '__name__', '__package__', '__spec__', 'acos', 'acosh', 'asin', 'asinh', 'atan', 'atan2', 'atanh', 'ceil', 'comb', 'copysign', 'cos', 'cosh', 'degrees', 'dist', 'e', 'erf', 'erfc', 'exp', 'expm1', 'fabs', 'factorial', 'floor', 'fmod', 'frexp', 'fsum', 'gamma', 'gcd', 'hypot', 'inf', 'isclose', 'isfinite', 'isinf', 'isnan', 'isqrt', 'lcm', 'ldexp', 'lgamma', 'log', 'log10', 'log1p', 'log2', 'modf', 'nan', 'nextafter', 'perm', 'pi', 'pow', 'prod', 'radians', 'remainder', 'sin', 'sinh', 'sqrt', 'tan', 'tanh', 'tau', 'trunc', 'ulp']\n"
     ]
    }
   ],
   "source": [
    "import math\n",
    "print(dir(math))\n"
   ]
  },
  {
   "cell_type": "code",
   "execution_count": 5,
   "id": "34ae431b",
   "metadata": {},
   "outputs": [
    {
     "name": "stdout",
     "output_type": "stream",
     "text": [
      "16\n",
      "15\n",
      "3.944616584663204\n"
     ]
    }
   ],
   "source": [
    "number=15.56\n",
    "print(math.ceil(number))\n",
    "print(math.floor(number))\n",
    "print(math.sqrt(number))"
   ]
  },
  {
   "cell_type": "code",
   "execution_count": 6,
   "id": "92b52850",
   "metadata": {},
   "outputs": [
    {
     "name": "stdout",
     "output_type": "stream",
     "text": [
      "['Counter', 'Decimal', 'Fraction', 'NormalDist', 'StatisticsError', '__all__', '__builtins__', '__cached__', '__doc__', '__file__', '__loader__', '__name__', '__package__', '__spec__', '_coerce', '_convert', '_exact_ratio', '_fail_neg', '_find_lteq', '_find_rteq', '_isfinite', '_normal_dist_inv_cdf', '_ss', '_sum', 'bisect_left', 'bisect_right', 'erf', 'exp', 'fabs', 'fmean', 'fsum', 'geometric_mean', 'groupby', 'harmonic_mean', 'hypot', 'itemgetter', 'log', 'math', 'mean', 'median', 'median_grouped', 'median_high', 'median_low', 'mode', 'multimode', 'numbers', 'pstdev', 'pvariance', 'quantiles', 'random', 'sqrt', 'stdev', 'tau', 'variance']\n"
     ]
    }
   ],
   "source": [
    "import statistics as stat\n",
    "print(dir(stat))"
   ]
  },
  {
   "cell_type": "code",
   "execution_count": 11,
   "id": "0196fe57",
   "metadata": {},
   "outputs": [
    {
     "name": "stdout",
     "output_type": "stream",
     "text": [
      "221.2\n",
      "90\n",
      "99635.5111111111\n",
      "88.0\n"
     ]
    }
   ],
   "source": [
    "numbers =[67,87,90,45,89,53,940,675,90,76]\n",
    "print(stat.mean(numbers))\n",
    "print(stat.mode(numbers))\n",
    "print(stat.variance(numbers))\n",
    "print(stat.median(numbers))\n",
    "print()"
   ]
  },
  {
   "cell_type": "code",
   "execution_count": 12,
   "id": "ad90aa89",
   "metadata": {},
   "outputs": [
    {
     "name": "stdout",
     "output_type": "stream",
     "text": [
      "['BPF', 'LOG4', 'NV_MAGICCONST', 'RECIP_BPF', 'Random', 'SG_MAGICCONST', 'SystemRandom', 'TWOPI', '_Sequence', '_Set', '__all__', '__builtins__', '__cached__', '__doc__', '__file__', '__loader__', '__name__', '__package__', '__spec__', '_accumulate', '_acos', '_bisect', '_ceil', '_cos', '_e', '_exp', '_floor', '_inst', '_log', '_os', '_pi', '_random', '_repeat', '_sha512', '_sin', '_sqrt', '_test', '_test_generator', '_urandom', '_warn', 'betavariate', 'choice', 'choices', 'expovariate', 'gammavariate', 'gauss', 'getrandbits', 'getstate', 'lognormvariate', 'normalvariate', 'paretovariate', 'randbytes', 'randint', 'random', 'randrange', 'sample', 'seed', 'setstate', 'shuffle', 'triangular', 'uniform', 'vonmisesvariate', 'weibullvariate']\n"
     ]
    }
   ],
   "source": [
    "import random as rn\n",
    "print (dir(rn))"
   ]
  },
  {
   "cell_type": "code",
   "execution_count": 14,
   "id": "5580af90",
   "metadata": {},
   "outputs": [
    {
     "name": "stdout",
     "output_type": "stream",
     "text": [
      "22\n"
     ]
    }
   ],
   "source": [
    "num=rn.randint(10,25)\n",
    "print(num)"
   ]
  },
  {
   "cell_type": "code",
   "execution_count": 15,
   "id": "8bcf7a76",
   "metadata": {},
   "outputs": [
    {
     "name": "stdout",
     "output_type": "stream",
     "text": [
      "940\n"
     ]
    }
   ],
   "source": [
    "print(rn.choice(numbers))"
   ]
  },
  {
   "cell_type": "code",
   "execution_count": 17,
   "id": "4cdf731d",
   "metadata": {},
   "outputs": [
    {
     "name": "stdout",
     "output_type": "stream",
     "text": [
      "[45, 940, 67, 76, 53, 90, 675, 87, 90, 89]\n"
     ]
    }
   ],
   "source": [
    "rn.shuffle(numbers)\n",
    "print(numbers)"
   ]
  },
  {
   "cell_type": "code",
   "execution_count": 20,
   "id": "5b402405",
   "metadata": {},
   "outputs": [
    {
     "name": "stdout",
     "output_type": "stream",
     "text": [
      "please provide a number23\n",
      "23is an odd number\n"
     ]
    }
   ],
   "source": [
    "num=int(input('please provide a number'))\n",
    "if num % 2 !=0:\n",
    "    print(f'{num}is an odd number')\n",
    "    #for the if condirion it will return an output only if the condition is true"
   ]
  },
  {
   "cell_type": "code",
   "execution_count": 2,
   "id": "26b0a4c8",
   "metadata": {},
   "outputs": [
    {
     "name": "stdout",
     "output_type": "stream",
     "text": [
      "please provide a number89\n",
      "89is an odd number\n"
     ]
    }
   ],
   "source": [
    "num=int(input('please provide a number'))\n",
    "if num % 2 !=0:\n",
    "    print(f'{num}is an odd number')\n",
    "else :\n",
    "      print(f'{num}is an even number')"
   ]
  },
  {
   "cell_type": "code",
   "execution_count": 28,
   "id": "baf0381c",
   "metadata": {},
   "outputs": [
    {
     "name": "stdout",
     "output_type": "stream",
     "text": [
      "please provide a number35\n",
      "35 is divisible by 5 and 7\n"
     ]
    }
   ],
   "source": [
    "#exercise 1\n",
    "#write a python program to check if a given number is divisible by 5 and 7\n",
    "num=int(input('please provide a number'))\n",
    "if num % 5 == 0 and num % 7 ==0 :\n",
    "    print(f'{num} is divisible by 5 and 7')\n",
    "else:\n",
    "    print(f'{num} isnot divisible by 5 and 7')"
   ]
  },
  {
   "cell_type": "code",
   "execution_count": 34,
   "id": "2b7c6459",
   "metadata": {},
   "outputs": [
    {
     "name": "stdout",
     "output_type": "stream",
     "text": [
      "Driver's speed:80\n",
      "you are above the speed limit with a point of 2 which is still acceptable Be warned\n"
     ]
    }
   ],
   "source": [
    "defaultspeed= 70\n",
    "Dspeed = int(input('Driver\\'s speed:'))\n",
    "if Dspeed <= defaultspeed:\n",
    "    print('speed ok on track')\n",
    "else:\n",
    "    points=(Dspeed-defaultspeed)//5\n",
    "    if points <=12:\n",
    "        print(f'you are above the speed limit with a point of {points} which is still acceptable Be warned')\n",
    "    else:\n",
    "        print(f'you are above the speed limit with a point of {points} which is way above the given point!licensed suspended')\n",
    "    \n",
    "                   "
   ]
  },
  {
   "cell_type": "code",
   "execution_count": 38,
   "id": "1ddbc80b",
   "metadata": {},
   "outputs": [
    {
     "name": "stdout",
     "output_type": "stream",
     "text": [
      "WELCOME TO PRONET MALL\n",
      "0:Ground floor\n",
      "1:First floor\n",
      "2:Second floor\n",
      "3.Third floor\n",
      "4:Lounge\n",
      "\n",
      "choose the floor you like to go:3\n",
      "!!!!!!Third Floor\n"
     ]
    }
   ],
   "source": [
    "print('WELCOME TO PRONET MALL')\n",
    "print('''0:Ground floor\n",
    "1:First floor\n",
    "2:Second floor\n",
    "3.Third floor\n",
    "4:Lounge\n",
    "''')\n",
    "choice= int(input('choose the floor you like to go:'))\n",
    "if choice == 1:\n",
    "         print('!!!!!!First floor')\n",
    "elif choice == 2:\n",
    "         print ('!!!!!!Second Floor')\n",
    "elif choice == 3:\n",
    "         print ('!!!!!!Third Floor')\n",
    "elif choice == 4:\n",
    "         print (' !!!!!Lounge')\n",
    "else:\n",
    "         print('!!!!!!Ground floor')\n",
    "\n"
   ]
  },
  {
   "cell_type": "code",
   "execution_count": null,
   "id": "193a39a4",
   "metadata": {},
   "outputs": [],
   "source": []
  },
  {
   "cell_type": "code",
   "execution_count": null,
   "id": "d281d56c",
   "metadata": {},
   "outputs": [],
   "source": []
  }
 ],
 "metadata": {
  "kernelspec": {
   "display_name": "Python 3 (ipykernel)",
   "language": "python",
   "name": "python3"
  },
  "language_info": {
   "codemirror_mode": {
    "name": "ipython",
    "version": 3
   },
   "file_extension": ".py",
   "mimetype": "text/x-python",
   "name": "python",
   "nbconvert_exporter": "python",
   "pygments_lexer": "ipython3",
   "version": "3.9.12"
  }
 },
 "nbformat": 4,
 "nbformat_minor": 5
}
