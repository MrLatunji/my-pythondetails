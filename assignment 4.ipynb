{
 "cells": [
  {
   "cell_type": "code",
   "execution_count": null,
   "id": "bc10e92a",
   "metadata": {},
   "outputs": [],
   "source": [
    "# QUESTION1 A company decided to give bonus of 5% to employee if his/her year of service is more than 5 years.\n",
    "\n",
    "#Ask user for their salary and year of service and print the net bonus amount."
   ]
  },
  {
   "cell_type": "code",
   "execution_count": 7,
   "id": "41cb095f",
   "metadata": {},
   "outputs": [
    {
     "name": "stdout",
     "output_type": "stream",
     "text": [
      "year of service8\n",
      "present salary65789\n",
      "69078.45\n"
     ]
    }
   ],
   "source": [
    "elyrs= 5 #eligible year for bonus\n",
    "YOS= int(input('year of service')) #user to input year of service\n",
    "Psalary= int(input('present salary')) #user to input salary\n",
    "bonus= (0.05*Psalary) #bonus if year of service is > than 5\n",
    "net_bonus= bonus+Psalary\n",
    "if YOS > elyrs:\n",
    "    print (net_bonus)\n",
    "         \n"
   ]
  },
  {
   "cell_type": "code",
   "execution_count": null,
   "id": "46276a71",
   "metadata": {},
   "outputs": [],
   "source": []
  },
  {
   "cell_type": "code",
   "execution_count": 54,
   "id": "b5c4e618",
   "metadata": {},
   "outputs": [
    {
     "name": "stdout",
     "output_type": "stream",
     "text": [
      "provide an integer values5\n",
      "provide another integer values79\n",
      "79 is the greatest\n"
     ]
    }
   ],
   "source": [
    " #Question 2 Take two int values from user and print greatest among them.\n",
    "x= int(input('provide an integer values'))\n",
    "y= int(input('provide another integer values'))\n",
    "if x>y:\n",
    "    print(x,\"is the greatest\")\n",
    "else:\n",
    "    print(y,\"is the greatest\")\n",
    "    "
   ]
  },
  {
   "cell_type": "code",
   "execution_count": 56,
   "id": "2625ce08",
   "metadata": {},
   "outputs": [
    {
     "name": "stdout",
     "output_type": "stream",
     "text": [
      "provide your age:45\n",
      "provide your age:35\n",
      "provide your age:23\n",
      "age1 is the oldest\n",
      "age3 is the youngest\n"
     ]
    }
   ],
   "source": [
    "#Take input of age of 3 people by user and determine oldest and youngest among them.\n",
    "age1=int(input('provide your age:'))\n",
    "age2=int(input('provide your age:'))\n",
    "age3=int(input('provide your age:'))\n",
    "if age1>age2 and age3:\n",
    "    print('age1 is the oldest')\n",
    "elif age2>age1 and age2>age3:\n",
    "    print('age2 is  the oldest')\n",
    "else:\n",
    "    print('age3 is  the oldest')\n",
    "if age1<age2 and age1<age3:\n",
    "    print('age1 is the youngest')\n",
    "elif age2<age1 and age2<age3:\n",
    "    print('age2 is the youngest')\n",
    "else:\n",
    "     print('age3 is the youngest')\n",
    "\n"
   ]
  },
  {
   "cell_type": "code",
   "execution_count": 20,
   "id": "98739f22",
   "metadata": {},
   "outputs": [
    {
     "name": "stdout",
     "output_type": "stream",
     "text": [
      "please provide number of classes held:20\n",
      "please provide number of classes attended:15\n",
      "75.0 congratulations,you are allowed to sit for exam\n"
     ]
    }
   ],
   "source": [
    "#A student will not be allowed to sit in exam if his/her attendence is less than 75%.\n",
    "#Take following input from user#\n",
    "#Number of classes held\n",
    "#Number of classes attended.\n",
    "#And print,percentage of class attended #Is student is allowed to sit in exam or not.\n",
    "\n",
    "dpercent = 75\n",
    "y= int(input(\"please provide number of classes held:\")) #y is num of classes held\n",
    "x= int(input('please provide number of classes attended:')) #x is number of classes attended\n",
    "user_percent = x/y*100\n",
    "if user_percent>= dpercent:\n",
    "    print(user_percent,\"congratulations,you are allowed to sit for exam\")\n",
    "elif user_percent<dpercent:\n",
    "    print(user_percent,\"sorry,you are not allowed to sit for exam\")\n"
   ]
  },
  {
   "cell_type": "code",
   "execution_count": 57,
   "id": "0fcebfcc",
   "metadata": {},
   "outputs": [
    {
     "name": "stdout",
     "output_type": "stream",
     "text": [
      "age: 23\n",
      "are you married: (Y/N)Y\n",
      "enter sex: M/FF\n",
      "You will work only in urban area\n",
      "ERROR\n"
     ]
    }
   ],
   "source": [
    "#Ask user to enter age, sex ( M or F ), marital status ( Y or N ) and then using following rules print their place of service.\n",
    "\n",
    "#if employee is female, then she will work only in urban areas.\n",
    "#if employee is a male and age is in between 20 to 40 then he may work in anywhere\n",
    "#if employee is male and age is in between 40 t0 60 then he will work in urban areas only.\n",
    "#And any other input of age should\n",
    "\n",
    "age=int(input(\"age: \"))\n",
    "marital_status=(input('are you married: (Y/N)' )) \n",
    "sex= (input(\"enter sex: M/F\" ))\n",
    "if sex == 'F':\n",
    "    print('You will work only in urban area')\n",
    "if sex == 'M':\n",
    "    if((age >= 20) &(age < 40)):\n",
    "        print('you may work anywhere')\n",
    "elif((age >= 40) & (age < 60)):\n",
    "            print('you will work in urban areas only');\n",
    "else:\n",
    "                print('ERROR')\n",
    "\n"
   ]
  },
  {
   "cell_type": "code",
   "execution_count": null,
   "id": "d55a6e24",
   "metadata": {},
   "outputs": [],
   "source": []
  },
  {
   "cell_type": "code",
   "execution_count": null,
   "id": "6dc498c6",
   "metadata": {},
   "outputs": [],
   "source": []
  }
 ],
 "metadata": {
  "kernelspec": {
   "display_name": "Python 3 (ipykernel)",
   "language": "python",
   "name": "python3"
  },
  "language_info": {
   "codemirror_mode": {
    "name": "ipython",
    "version": 3
   },
   "file_extension": ".py",
   "mimetype": "text/x-python",
   "name": "python",
   "nbconvert_exporter": "python",
   "pygments_lexer": "ipython3",
   "version": "3.9.12"
  },
  "widgets": {
   "application/vnd.jupyter.widget-state+json": {
    "state": {},
    "version_major": 2,
    "version_minor": 0
   }
  }
 },
 "nbformat": 4,
 "nbformat_minor": 5
}
