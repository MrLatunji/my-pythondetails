{
 "cells": [
  {
   "cell_type": "code",
   "execution_count": 1,
   "id": "495f4b42",
   "metadata": {},
   "outputs": [
    {
     "ename": "NameError",
     "evalue": "name 'numbers' is not defined",
     "output_type": "error",
     "traceback": [
      "\u001b[1;31m---------------------------------------------------------------------------\u001b[0m",
      "\u001b[1;31mNameError\u001b[0m                                 Traceback (most recent call last)",
      "Input \u001b[1;32mIn [1]\u001b[0m, in \u001b[0;36m<cell line: 2>\u001b[1;34m()\u001b[0m\n\u001b[0;32m      1\u001b[0m num \u001b[38;5;241m=\u001b[39m (\u001b[38;5;241m46\u001b[39m, \u001b[38;5;241m53\u001b[39m, \u001b[38;5;241m45\u001b[39m, \u001b[38;5;241m48\u001b[39m, \u001b[38;5;241m55\u001b[39m, \u001b[38;5;241m45\u001b[39m, \u001b[38;5;241m49\u001b[39m, \u001b[38;5;241m51\u001b[39m, \u001b[38;5;241m51\u001b[39m, \u001b[38;5;241m58\u001b[39m, \u001b[38;5;241m50\u001b[39m, \u001b[38;5;241m55\u001b[39m, \u001b[38;5;241m53\u001b[39m, \u001b[38;5;241m57\u001b[39m, \u001b[38;5;241m50\u001b[39m, \u001b[38;5;241m46\u001b[39m, \u001b[38;5;241m55\u001b[39m, \u001b[38;5;241m55\u001b[39m, \u001b[38;5;241m47\u001b[39m, \u001b[38;5;241m57\u001b[39m, \u001b[38;5;241m55\u001b[39m)\n\u001b[1;32m----> 2\u001b[0m \u001b[38;5;28mprint\u001b[39m(\u001b[38;5;28mtype\u001b[39m(\u001b[43mnumbers\u001b[49m))\n",
      "\u001b[1;31mNameError\u001b[0m: name 'numbers' is not defined"
     ]
    }
   ],
   "source": [
    "num = (46, 53, 45, 48, 55, 45, 49, 51, 51, 58, 50, 55, 53, 57, 50, 46, 55, 55, 47, 57, 55)\n",
    "print(type(numbers))"
   ]
  },
  {
   "cell_type": "code",
   "execution_count": null,
   "id": "eb977903",
   "metadata": {},
   "outputs": [],
   "source": []
  }
 ],
 "metadata": {
  "kernelspec": {
   "display_name": "Python 3 (ipykernel)",
   "language": "python",
   "name": "python3"
  },
  "language_info": {
   "codemirror_mode": {
    "name": "ipython",
    "version": 3
   },
   "file_extension": ".py",
   "mimetype": "text/x-python",
   "name": "python",
   "nbconvert_exporter": "python",
   "pygments_lexer": "ipython3",
   "version": "3.9.12"
  }
 },
 "nbformat": 4,
 "nbformat_minor": 5
}
