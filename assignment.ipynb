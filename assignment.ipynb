{
 "cells": [
  {
   "cell_type": "code",
   "execution_count": 6,
   "id": "2fad5f16",
   "metadata": {},
   "outputs": [
    {
     "name": "stdout",
     "output_type": "stream",
     "text": [
      "MY NAME IS JAMES\n"
     ]
    }
   ],
   "source": [
    "'MY NAME IS JAMES'\n",
    "print ('MY NAME IS JAMES')"
   ]
  },
  {
   "cell_type": "code",
   "execution_count": 9,
   "id": "552bd9f4",
   "metadata": {},
   "outputs": [
    {
     "name": "stdout",
     "output_type": "stream",
     "text": [
      "I’m from a well-known village with good culture in kogi state’ \n"
     ]
    }
   ],
   "source": [
    "state= 'I’m from a well-known village with good culture in kogi state’ ' \n",
    "print(state)"
   ]
  },
  {
   "cell_type": "code",
   "execution_count": 14,
   "id": "bc28e5f6",
   "metadata": {},
   "outputs": [
    {
     "name": "stdout",
     "output_type": "stream",
     "text": [
      "I have 1000 dollars so i can buy 3 football for 450.0 dollars \n"
     ]
    }
   ],
   "source": [
    "totalMoney=1000\n",
    "quantity=3\n",
    "price=450.00\n",
    "action='I have {} dollars so i can buy {} football for {} dollars '\n",
    "print (string.format(totalMoney,quantity,price))"
   ]
  },
  {
   "cell_type": "code",
   "execution_count": 22,
   "id": "34ba053b",
   "metadata": {},
   "outputs": [
    {
     "name": "stdout",
     "output_type": "stream",
     "text": [
      "I STAND STRONG, DAVIDO ELEMI 9 PLUS\n",
      "i stand strong, davido elemi 9 plus\n",
      "I stand strong, davido elemi 9 plus\n",
      "I Stand Strong, Davido Elemi 9 Plus\n",
      "['i', 'stand', 'strong,', 'davido', 'elemi', '9', 'plus']\n"
     ]
    }
   ],
   "source": [
    "poem= 'i stand strong, davido elemi 9 plus'\n",
    "print(poem.upper())\n",
    "print(poem.lower())\n",
    "print(poem.capitalize())\n",
    "print(poem.title())\n",
    "print(poem.split())\n"
   ]
  },
  {
   "cell_type": "code",
   "execution_count": null,
   "id": "525d8d41",
   "metadata": {},
   "outputs": [],
   "source": []
  }
 ],
 "metadata": {
  "kernelspec": {
   "display_name": "Python 3 (ipykernel)",
   "language": "python",
   "name": "python3"
  },
  "language_info": {
   "codemirror_mode": {
    "name": "ipython",
    "version": 3
   },
   "file_extension": ".py",
   "mimetype": "text/x-python",
   "name": "python",
   "nbconvert_exporter": "python",
   "pygments_lexer": "ipython3",
   "version": "3.9.12"
  }
 },
 "nbformat": 4,
 "nbformat_minor": 5
}
