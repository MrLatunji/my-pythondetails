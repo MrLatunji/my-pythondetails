{
 "cells": [
  {
   "cell_type": "code",
   "execution_count": 6,
   "id": "2f0166a0",
   "metadata": {},
   "outputs": [
    {
     "name": "stdout",
     "output_type": "stream",
     "text": [
      "Hey bukky this is a kind reminder of our party holding on the 25 July,2022 00AM prompt\n",
      "Hey Shola this is a kind reminder of our party holding on the 25 July,2022 00AM prompt\n",
      "Hey wale this is a kind reminder of our party holding on the 25 July,2022 00AM prompt\n",
      "Hey tola this is a kind reminder of our party holding on the 25 July,2022 00AM prompt\n",
      "Hey shade this is a kind reminder of our party holding on the 25 July,2022 00AM prompt\n"
     ]
    }
   ],
   "source": [
    "import datetime\n",
    "\n",
    "friends= ['bukky','Shola','wale','tola','shade']\n",
    "date = datetime.date(2022,7,25,)\n",
    "for name in friends:\n",
    "    print('Hey',name,'this is a kind reminder of our party holding on the', date.strftime('%d %B,%Y %H%p prompt'))"
   ]
  },
  {
   "cell_type": "code",
   "execution_count": 11,
   "id": "809390f1",
   "metadata": {},
   "outputs": [
    {
     "name": "stdout",
     "output_type": "stream",
     "text": [
      "What position does Marcelo plays for Real Madrid:LB\n",
      "How many clubs do we have in the netherland league:18\n",
      "How many basic datatypes do we considered in the course of our program:4\n",
      "How many legs do a spider have:8\n",
      "What type of language is python:Programming\n",
      "Your score is 25 in 18 seconds\n"
     ]
    }
   ],
   "source": [
    "# write a program to calculate how many  seconds it takes to answer 5 questions\n",
    "score = 0\n",
    "time = 0\n",
    "output = {\n",
    "    'Q1': ['Gk','AM','SW','LB'],\n",
    "    'Q2': [16,15,45,20,18],\n",
    "    'Q3': [6,3,4,5,6],\n",
    "    'Q4':[9,8,10,15],\n",
    "    'Q5': ['Programming','High','Scripting','Machine']\n",
    "}\n",
    "start_time = datetime.datetime.now()\n",
    "answer = input('What position does Marcelo plays for Real Madrid:')\n",
    "if answer == output['Q1'][3]:\n",
    "    score = score+5\n",
    "else:\n",
    "    score=score+0\n",
    "answer = int(input('How many clubs do we have in the netherland league:'))\n",
    "if answer == output['Q2'][4]:\n",
    "    score = score+5\n",
    "else:\n",
    "    score=score+0\n",
    "answer = int(input('How many basic datatypes do we considered in the course of our program:'))\n",
    "if answer == output['Q3'][2]:\n",
    "    score = score+5\n",
    "else:\n",
    "    score=score+0\n",
    "answer = int(input('How many legs do a spider have:'))\n",
    "if answer == output['Q4'][1]:\n",
    "    score = score+5\n",
    "else:\n",
    "    score=score+0\n",
    "answer = input('What type of language is python:')\n",
    "if answer == output['Q5'][0]:\n",
    "    score = score+5\n",
    "else:\n",
    "    score=score+0\n",
    "stop_time = datetime.datetime.now()\n",
    "diff = stop_time - start_time\n",
    "time = diff.seconds\n",
    "print(f'Your score is {score} in {time} seconds')"
   ]
  },
  {
   "cell_type": "code",
   "execution_count": null,
   "id": "8bdb6823",
   "metadata": {},
   "outputs": [],
   "source": []
  }
 ],
 "metadata": {
  "kernelspec": {
   "display_name": "Python 3 (ipykernel)",
   "language": "python",
   "name": "python3"
  },
  "language_info": {
   "codemirror_mode": {
    "name": "ipython",
    "version": 3
   },
   "file_extension": ".py",
   "mimetype": "text/x-python",
   "name": "python",
   "nbconvert_exporter": "python",
   "pygments_lexer": "ipython3",
   "version": "3.9.12"
  }
 },
 "nbformat": 4,
 "nbformat_minor": 5
}
