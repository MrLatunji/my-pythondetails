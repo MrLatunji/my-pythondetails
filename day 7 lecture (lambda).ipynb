{
 "cells": [
  {
   "cell_type": "code",
   "execution_count": 1,
   "id": "55fe1e78",
   "metadata": {},
   "outputs": [
    {
     "name": "stdout",
     "output_type": "stream",
     "text": [
      "Provide a number56\n"
     ]
    },
    {
     "data": {
      "text/plain": [
       "7.483314773547883"
      ]
     },
     "execution_count": 1,
     "metadata": {},
     "output_type": "execute_result"
    }
   ],
   "source": [
    "# lambda function (Anonymous Function)\n",
    "#we cannot reuse a lambda function, not reusable, one time function\n",
    "#all operations and xpression has to be on a straight line\n",
    "\n",
    "import math\n",
    "(lambda num:math.sqrt(num))(int(input('Provide a number')))\n",
    "\n",
    "\n",
    "\n"
   ]
  },
  {
   "cell_type": "code",
   "execution_count": 8,
   "id": "2c43559a",
   "metadata": {},
   "outputs": [
    {
     "name": "stdout",
     "output_type": "stream",
     "text": [
      "nameTunji\n",
      "You are welcome\n"
     ]
    }
   ],
   "source": [
    "# QUESTION 1.Take name from user and check if first letter is in uppercase\n",
    "name= input('name')\n",
    "if name[0]== name[0].upper():\n",
    "    print ('You are welcome')\n",
    "else: \n",
    "    print ('ERROR')\n"
   ]
  },
  {
   "cell_type": "code",
   "execution_count": 10,
   "id": "e817e6e9",
   "metadata": {},
   "outputs": [
    {
     "name": "stdout",
     "output_type": "stream",
     "text": [
      "provide a nameTunji\n"
     ]
    },
    {
     "data": {
      "text/plain": [
       "'Tunji starts with upper case'"
      ]
     },
     "execution_count": 10,
     "metadata": {},
     "output_type": "execute_result"
    }
   ],
   "source": [
    "#using lambda to solve the above question\n",
    "(lambda name: f'{name} starts with upper case' if name [0]== name[0].upper() else f'{name} does not start with upper case')(input('provide a name'))"
   ]
  },
  {
   "cell_type": "code",
   "execution_count": 11,
   "id": "2c476a92",
   "metadata": {},
   "outputs": [
    {
     "name": "stdout",
     "output_type": "stream",
     "text": [
      "['BINGO', 'CAPPY', 'HARRY', 'BELLA', 'FREEMAN', 'ROCKY']\n"
     ]
    }
   ],
   "source": [
    "#MAP and #FILTER\n",
    "# Map is used to modify existing object\n",
    "#filter is used for extracting an existing value \n",
    "# they  are used for iterable object e.g Tuple, list and string\n",
    "\n",
    "dogs = ['Bingo', 'Cappy', 'Harry','Bella', 'Freeman', 'Rocky']\n",
    "udogs = list(map(lambda x:str.upper(x), dogs)) #the x is a variable carrying each of the string\n",
    "print(udogs)"
   ]
  },
  {
   "cell_type": "code",
   "execution_count": 15,
   "id": "2e066b21",
   "metadata": {},
   "outputs": [
    {
     "name": "stdout",
     "output_type": "stream",
     "text": [
      "['Bingo', 'Bella']\n"
     ]
    }
   ],
   "source": [
    "uudogs = list(filter(lambda x:x.startswith('B'),dogs))\n",
    "print(uudogs)"
   ]
  },
  {
   "cell_type": "code",
   "execution_count": null,
   "id": "0d27b811",
   "metadata": {},
   "outputs": [],
   "source": []
  }
 ],
 "metadata": {
  "kernelspec": {
   "display_name": "Python 3 (ipykernel)",
   "language": "python",
   "name": "python3"
  },
  "language_info": {
   "codemirror_mode": {
    "name": "ipython",
    "version": 3
   },
   "file_extension": ".py",
   "mimetype": "text/x-python",
   "name": "python",
   "nbconvert_exporter": "python",
   "pygments_lexer": "ipython3",
   "version": "3.9.12"
  }
 },
 "nbformat": 4,
 "nbformat_minor": 5
}
