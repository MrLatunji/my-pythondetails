{
 "cells": [
  {
   "cell_type": "code",
   "execution_count": 1,
   "id": "a44aef90",
   "metadata": {},
   "outputs": [],
   "source": [
    "#class and object\n",
    "#class is a prototype and cannot perform on their own\n",
    "#object perform the functionality of a class\n",
    "#class has two main properties which are attribute and method\n",
    "#atrribute define the class while method define the functions of the class\n",
    "#self is a constant and does not require a value, it is used to access the attributes\n",
    "#init initialise the attribute when creating an object"
   ]
  },
  {
   "cell_type": "code",
   "execution_count": 2,
   "id": "949be578",
   "metadata": {},
   "outputs": [
    {
     "name": "stdout",
     "output_type": "stream",
     "text": [
      "Mammal\n"
     ]
    }
   ],
   "source": [
    "class dog:\n",
    "    attr1 = 'Mammal'\n",
    "    attr2 = 'Bark'\n",
    "obj1 = dog()\n",
    "print(obj1.attr1)"
   ]
  },
  {
   "cell_type": "code",
   "execution_count": 3,
   "id": "c3d45515",
   "metadata": {},
   "outputs": [
    {
     "name": "stdout",
     "output_type": "stream",
     "text": [
      "Rocky belongs to the family of Mammal\n",
      "None\n"
     ]
    }
   ],
   "source": [
    "class dog:\n",
    "    attr1 = 'Mammal'\n",
    "    attr2 = 'Bark'\n",
    "    def family(self):\n",
    "        print(f'Rocky belongs to the family of {self.attr1}')\n",
    "obj1 = dog()\n",
    "print(obj1.family())"
   ]
  },
  {
   "cell_type": "code",
   "execution_count": 14,
   "id": "3b19e5bc",
   "metadata": {},
   "outputs": [],
   "source": [
    "class simulationgame:\n",
    "    def __init__ (self,Brand,Model,Color,Year,Speed):\n",
    "        self.Brand = Brand\n",
    "        self.Model = Model\n",
    "        self.Color = Color\n",
    "        self.Year = Year\n",
    "        self.Speed = Speed\n",
    "    def start(self):\n",
    "        print(f'{self.Brand} {self.Model} has started')\n",
    "    def gear(self):\n",
    "        choice = int(input('Please choose a gear:'))\n",
    "        if choice ==1:\n",
    "            print('Gear changed to 1')\n",
    "        elif choice ==2:\n",
    "            print('Gear changed to 2')\n",
    "        elif choice ==3:\n",
    "            print ('Gear changed to 3')\n",
    "        elif choice ==4:\n",
    "            print ('Gear changed to 4')\n",
    "        elif choice ==5:\n",
    "            print ('Gear changed to 5')\n",
    "        elif choice ==6:\n",
    "            print ('Gear put on reverse')\n",
    "    def nitro (self,ch):\n",
    "        if ch == 1:\n",
    "            print ('Nitro engaged')\n",
    "        else:\n",
    "            print ('Nitro Disengaged')\n",
    "    def stop(self):\n",
    "        print(f'{self.Brand} {self.Model} has stopped and parked')\n",
    "car1 = simulationgame('Audi','A4', 'Blue', 2018,350)\n",
    "    "
   ]
  },
  {
   "cell_type": "code",
   "execution_count": 15,
   "id": "bc27b4df",
   "metadata": {},
   "outputs": [
    {
     "name": "stdout",
     "output_type": "stream",
     "text": [
      "Audi A4 has started\n"
     ]
    }
   ],
   "source": [
    "car1.start()"
   ]
  },
  {
   "cell_type": "code",
   "execution_count": 16,
   "id": "450be6fb",
   "metadata": {},
   "outputs": [
    {
     "name": "stdout",
     "output_type": "stream",
     "text": [
      "Please choose a gear:5\n",
      "Gear changed to 5\n"
     ]
    }
   ],
   "source": [
    "car1.gear()"
   ]
  },
  {
   "cell_type": "code",
   "execution_count": 17,
   "id": "e5c7d169",
   "metadata": {},
   "outputs": [
    {
     "name": "stdout",
     "output_type": "stream",
     "text": [
      "Nitro engaged\n"
     ]
    }
   ],
   "source": [
    "car1.nitro(1)"
   ]
  },
  {
   "cell_type": "code",
   "execution_count": 18,
   "id": "49b77390",
   "metadata": {},
   "outputs": [
    {
     "name": "stdout",
     "output_type": "stream",
     "text": [
      "Audi A4 has stopped and parked\n"
     ]
    }
   ],
   "source": [
    "car1.stop()"
   ]
  },
  {
   "cell_type": "code",
   "execution_count": 20,
   "id": "7d8691de",
   "metadata": {},
   "outputs": [
    {
     "name": "stdout",
     "output_type": "stream",
     "text": [
      "Golf M5 has started\n"
     ]
    }
   ],
   "source": [
    "#inheritance\n",
    "\n",
    "class sedan(simulationgame):\n",
    "    def openroof(self,ch):\n",
    "        if ch==1:\n",
    "            print('Roof opened')\n",
    "        else:\n",
    "            print('roof closed')\n",
    "car2 = sedan('Golf', 'M5','Black',2021,400)\n",
    "car2.start()"
   ]
  },
  {
   "cell_type": "code",
   "execution_count": 36,
   "id": "590b91ed",
   "metadata": {},
   "outputs": [],
   "source": [
    "class sonic:\n",
    "    def __init__(self,charactername,charactercolor,mainpower,generalpower):\n",
    "        self.charactername = charactername\n",
    "        self.charactercolor = charactercolor\n",
    "        self.mainpower = mainpower\n",
    "        self.generalpower = generalpower\n",
    "    def start(self):\n",
    "        print (f'{self.charactername} activated')\n",
    "    def obstacle1 (self):\n",
    "        obs1 =  int(input('Please choose an obstacle:'))\n",
    "        if obs1 ==1:\n",
    "            print('Jump Over')\n",
    "        elif obs1 ==2:\n",
    "            print ('roll under')\n",
    "    def obstacle2 (self):\n",
    "        obs2 = int(input('Please choose an obstacle:'))\n",
    "        if obs2 == 1:\n",
    "            print('Jump over')\n",
    "        elif obs2==2:\n",
    "            print('power boot activated and Jump over')\n",
    "    def direction(self):\n",
    "        dirtn = input('Please choose direction:')\n",
    "        if dirtn == 'L':\n",
    "            print ('change direction to Left')\n",
    "        elif dirtn == 'R':\n",
    "            print ('change direction to Right')\n",
    "        else:\n",
    "            print ('Maintain direction')\n",
    "    def end(self):\n",
    "        print('Final destination, Game Over')\n",
    "Player1= sonic('hedgehog','Blue', 'Supersmash', 'Miles Tails Power')\n",
    "\n",
    "                            "
   ]
  },
  {
   "cell_type": "code",
   "execution_count": 37,
   "id": "01a94ca3",
   "metadata": {},
   "outputs": [
    {
     "name": "stdout",
     "output_type": "stream",
     "text": [
      "hedgehog activated\n"
     ]
    }
   ],
   "source": [
    "Player1.start()"
   ]
  },
  {
   "cell_type": "code",
   "execution_count": 29,
   "id": "d0ce825c",
   "metadata": {},
   "outputs": [
    {
     "name": "stdout",
     "output_type": "stream",
     "text": [
      "Please choose an obstacle:2\n",
      "roll under\n"
     ]
    }
   ],
   "source": [
    "Player1.obstacle1()"
   ]
  },
  {
   "cell_type": "code",
   "execution_count": 30,
   "id": "ea40dd82",
   "metadata": {},
   "outputs": [
    {
     "name": "stdout",
     "output_type": "stream",
     "text": [
      "Please choose an obstacle:2\n",
      "power boot activated and Jump over\n"
     ]
    }
   ],
   "source": [
    "Player1.obstacle2()"
   ]
  },
  {
   "cell_type": "code",
   "execution_count": 31,
   "id": "c08a12a4",
   "metadata": {},
   "outputs": [
    {
     "name": "stdout",
     "output_type": "stream",
     "text": [
      "Please choose direction:L\n",
      "change direction to Left\n"
     ]
    }
   ],
   "source": [
    "Player1.direction()"
   ]
  },
  {
   "cell_type": "code",
   "execution_count": 38,
   "id": "718ff410",
   "metadata": {},
   "outputs": [
    {
     "name": "stdout",
     "output_type": "stream",
     "text": [
      "Final destination, Game Over\n"
     ]
    }
   ],
   "source": [
    "Player1.end()"
   ]
  },
  {
   "cell_type": "code",
   "execution_count": null,
   "id": "b718f697",
   "metadata": {},
   "outputs": [],
   "source": []
  }
 ],
 "metadata": {
  "kernelspec": {
   "display_name": "Python 3 (ipykernel)",
   "language": "python",
   "name": "python3"
  },
  "language_info": {
   "codemirror_mode": {
    "name": "ipython",
    "version": 3
   },
   "file_extension": ".py",
   "mimetype": "text/x-python",
   "name": "python",
   "nbconvert_exporter": "python",
   "pygments_lexer": "ipython3",
   "version": "3.9.12"
  }
 },
 "nbformat": 4,
 "nbformat_minor": 5
}
