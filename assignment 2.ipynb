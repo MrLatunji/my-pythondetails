{
 "cells": [
  {
   "cell_type": "code",
   "execution_count": 1,
   "id": "d4aefede",
   "metadata": {},
   "outputs": [
    {
     "name": "stdout",
     "output_type": "stream",
     "text": [
      "458.0\n"
     ]
    }
   ],
   "source": [
    "num = 458\n",
    "print(float(num))"
   ]
  },
  {
   "cell_type": "code",
   "execution_count": 2,
   "id": "875a3f26",
   "metadata": {},
   "outputs": [
    {
     "name": "stdout",
     "output_type": "stream",
     "text": [
      "please provide name,surname,middlenameolatunji,samuel,damiliola\n",
      "olatunji,samuel,damiliola\n"
     ]
    }
   ],
   "source": [
    "name= input('please provide name,surname,middlename')\n",
    "print(name)"
   ]
  },
  {
   "cell_type": "code",
   "execution_count": 7,
   "id": "01ea2371",
   "metadata": {},
   "outputs": [
    {
     "name": "stdout",
     "output_type": "stream",
     "text": [
      "The amount 5000 will become if save for 3 years at 6% compound intrest is 5983.402624117073\n"
     ]
    }
   ],
   "source": [
    "principal= 5000\n",
    "years= 3\n",
    "comp_int= 6/100\n",
    "n=12\n",
    "A = principal*(1+(comp_int/n))**(n*years)\n",
    "\n",
    "print(f'The amount {principal} will become if save for {years} years at 6% compound intrest is {A}')"
   ]
  },
  {
   "cell_type": "code",
   "execution_count": 3,
   "id": "c1475b89",
   "metadata": {},
   "outputs": [
    {
     "name": "stdout",
     "output_type": "stream",
     "text": [
      "1006.25\n"
     ]
    }
   ],
   "source": [
    "estimated=700000\n",
    "t=3 #time frame\n",
    "p1=550000 #initial principal\n",
    "n=12 #months in ayear\n",
    "r=5/100 #rate\n",
    "p2= 25000 #first year principal addition\n",
    "p3= 35000 #second year principal addition\n",
    "FirstYear = (p1 *(1 + r)**1) + p2\n",
    "SecondYear = (FirstYear *(1 + r)**1) + p3\n",
    "ThirdYear = (SecondYear *(1 + r)**1)\n",
    "diff = ThirdYear - estimated\n",
    "print(diff)"
   ]
  },
  {
   "cell_type": "code",
   "execution_count": null,
   "id": "e8441b6b",
   "metadata": {},
   "outputs": [],
   "source": []
  }
 ],
 "metadata": {
  "kernelspec": {
   "display_name": "Python 3 (ipykernel)",
   "language": "python",
   "name": "python3"
  },
  "language_info": {
   "codemirror_mode": {
    "name": "ipython",
    "version": 3
   },
   "file_extension": ".py",
   "mimetype": "text/x-python",
   "name": "python",
   "nbconvert_exporter": "python",
   "pygments_lexer": "ipython3",
   "version": "3.9.12"
  }
 },
 "nbformat": 4,
 "nbformat_minor": 5
}
